{
 "cells": [
  {
   "cell_type": "code",
   "execution_count": null,
   "source": [
    "import xarray as xr\n",
    "import numpy as np\n",
    "import pandas as pd\n",
    "\n",
    "import os\n",
    "precision = 'float32'\n",
    "DATA_DIR = '/opt/nautilus_dataset/cdf_files/indices/'\n",
    "\n",
    "first_date, last_date = '1979-01-01', '2021-07-25'\n",
    "df = pd.DataFrame(index=pd.date_range(first_date, last_date)).rename_axis('date')"
   ],
   "outputs": [],
   "metadata": {}
  },
  {
   "cell_type": "code",
   "execution_count": null,
   "source": [
    "def get_tabular_data(index):\n",
    "    index_file = os.path.join(DATA_DIR, index+'.txt')\n",
    "    raw_data = pd.read_csv(index_file).values\n",
    "    data = []\n",
    "    for i in range(0, len(raw_data)):\n",
    "        elems = raw_data[i].item().split()\n",
    "        elems = [float(el) for el in elems]\n",
    "        elems[0] = int(elems[0])\n",
    "        data.append(elems)\n",
    "    df = pd.DataFrame(data)\n",
    "    df = df.set_index(0).rename_axis('year')\n",
    "    return df"
   ],
   "outputs": [],
   "metadata": {}
  },
  {
   "cell_type": "markdown",
   "source": [
    "### Indices: MEIv2, NAO, AO, ONI, NINO3"
   ],
   "metadata": {}
  },
  {
   "cell_type": "code",
   "execution_count": null,
   "source": [
    "for scalar in ['MEIv2', 'NAO', 'AO', 'ONI', 'NINO34']:\n",
    "    df_scalar = get_tabular_data(scalar)\n",
    "    df[scalar] = 0.0\n",
    "    for year in df.index.year.unique():\n",
    "        for month in df.index.month.unique():\n",
    "            df[scalar][(df.index.year==year) & (df.index.month==month)] \\\n",
    "            = df_scalar[df_scalar.index==year][month].values.item()"
   ],
   "outputs": [],
   "metadata": {}
  },
  {
   "cell_type": "markdown",
   "source": [
    "### MJO"
   ],
   "metadata": {}
  },
  {
   "cell_type": "code",
   "execution_count": null,
   "source": [
    "index_file = os.path.join(DATA_DIR, 'MJO.txt')\n",
    "raw_data = pd.read_csv(index_file).values\n",
    "data = []\n",
    "for i in range(0, len(raw_data)):\n",
    "    elems = raw_data[i].item().split()[:-1]\n",
    "    elems = [float(el) for el in elems]\n",
    "    elems[0] = int(elems[0])\n",
    "    data.append(elems)\n",
    "\n",
    "cols = ['year','month','day','RMM1','RMM2','phase','amplitude']\n",
    "df_mjo = pd.DataFrame(data).rename(columns={x: y for x,y in zip(range(7), cols)})\n",
    "df_mjo = df_mjo[(df_mjo['year']>=1979) & (df_mjo['year']<=2021)]\n",
    "df_mjo.set_index(np.arange(len(df_mjo)), inplace=True)\n",
    "df[['MJO_rmm1','MJO_rmm2','MJO_phase','MJO_amp']] \\\n",
    "    = df_mjo[['RMM1','RMM2','phase','amplitude']].values[:df.shape[0]]"
   ],
   "outputs": [],
   "metadata": {}
  },
  {
   "cell_type": "code",
   "execution_count": null,
   "source": [
    "df.to_hdf(os.path.join(DATA_DIR, 'indices.h5'), key = 'df')"
   ],
   "outputs": [],
   "metadata": {}
  }
 ],
 "metadata": {
  "orig_nbformat": 4,
  "language_info": {
   "name": "python"
  }
 },
 "nbformat": 4,
 "nbformat_minor": 2
}