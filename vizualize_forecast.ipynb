{
 "cells": [
  {
   "cell_type": "code",
   "execution_count": null,
   "source": [
    "import numpy as np\n",
    "import xarray as xr\n",
    "import os\n",
    "import pandas as pd"
   ],
   "outputs": [],
   "metadata": {}
  },
  {
   "cell_type": "code",
   "execution_count": null,
   "source": [
    "timestamp = '2021_08_05_07_01'\n",
    "DIR1 = 'runs/NN/TCN/NN_embedding/{}/predictions/test/'.format(timestamp)\n",
    "ds = xr.open_dataset(os.path.join(DIR1,'forecast.nc'))\n",
    "Lon, Lat = np.meshgrid(ds.longitude.values, ds.latitude.values)\n",
    "ytrue = ds['t2ma_true']\n",
    "ypred = ds['t2ma_pred']\n",
    "\n",
    "def skill(y_true, y_pred):\n",
    "    return np.dot(y_true, y_pred)/(np.linalg.norm(y_true, 2)*np.linalg.norm(y_pred, 2))"
   ],
   "outputs": [],
   "metadata": {}
  },
  {
   "cell_type": "code",
   "execution_count": null,
   "source": [
    "import matplotlib.pyplot as plt\n",
    "week = 4\n",
    "year = 2016\n",
    "fig = plt.figure(figsize=(8,4))\n",
    "ds_slice = ds.sel(time=ds.forecast_date[:,week-1].dt.year == year, forecast = ds.forecast[week-1])\n",
    "dates = ds_slice.forecast_date\n",
    "mean = ds_slice['t2ma_true'].mean(('latitude', 'longitude'))\n",
    "std  = ds_slice['t2ma_true'].std(('latitude', 'longitude'))\n",
    "plt.plot(dates, mean)\n",
    "plt.fill_between(dates, mean - std, mean + std, color='blue', alpha=0.2)\n",
    "\n",
    "mean = ds_slice['t2ma_pred'].mean(('latitude', 'longitude'))\n",
    "std  = ds_slice['t2ma_pred'].std(('latitude', 'longitude'))\n",
    "plt.plot(dates, mean)\n",
    "plt.fill_between(dates, mean - std, mean + std, color='red', alpha=0.2)\n",
    "plt.grid()\n",
    "\n",
    "pred_skill = np.zeros(dates.shape[0])\n",
    "for idt in range(pred_skill.shape[0]):\n",
    "    pred_skill[idt] = skill(\n",
    "        ds_slice['t2ma_true'].values[:,:,idt].reshape(-1),\n",
    "        ds_slice['t2ma_pred'].values[:,:,idt].reshape(-1)\n",
    "    )\n",
    "plt.title('{} mean skill = {:0.2f}'.format(year, pred_skill.mean()))\n",
    "plt.show()"
   ],
   "outputs": [],
   "metadata": {}
  },
  {
   "cell_type": "code",
   "execution_count": null,
   "source": [
    "from mpl_toolkits.basemap import Basemap\n",
    "idt=-1\n",
    "\n",
    "fig = plt.figure(figsize=(15,20))\n",
    "gs = fig.add_gridspec(1,2)\n",
    "fig.add_subplot(gs[0,0])\n",
    "m = Basemap(projection='merc',llcrnrlat=np.min(Lat),urcrnrlat=np.max(Lat),\\\n",
    "            llcrnrlon=np.min(Lon),urcrnrlon=np.max(Lon),resolution='c')\n",
    "m.drawcoastlines()\n",
    "m.drawstates()\n",
    "m.drawcountries(linewidth=1, linestyle='solid', color='blue')\n",
    "plt.xlabel('longitude')\n",
    "plt.ylabel('latitude')\n",
    "lon, lat = m(Lon,Lat)\n",
    "plt.contourf(lon, lat, ds_slice['t2ma_true'].values[:, :, idt], cmap='jet', levels=np.linspace(-5,5, 41), extend='both')\n",
    "plt.title(dates[idt].values)\n",
    "plt.colorbar(shrink=0.1)\n",
    "\n",
    "fig.add_subplot(gs[0,1])\n",
    "m = Basemap(projection='merc',llcrnrlat=np.min(Lat),urcrnrlat=np.max(Lat),\\\n",
    "            llcrnrlon=np.min(Lon),urcrnrlon=np.max(Lon),resolution='c')\n",
    "m.drawcoastlines()\n",
    "m.drawstates()\n",
    "m.drawcountries(linewidth=1, linestyle='solid', color='blue')\n",
    "plt.xlabel('longitude')\n",
    "plt.ylabel('latitude')\n",
    "plt.contourf(lon, lat, ds_slice['t2ma_pred'].values[:, :, idt], cmap='jet', levels=np.linspace(-5,5, 41), extend='both')\n",
    "plt.title(dates[idt].values)\n",
    "plt.colorbar(shrink=0.1)\n",
    "plt.show()"
   ],
   "outputs": [],
   "metadata": {}
  }
 ],
 "metadata": {
  "orig_nbformat": 4,
  "language_info": {
   "name": "python"
  }
 },
 "nbformat": 4,
 "nbformat_minor": 2
}